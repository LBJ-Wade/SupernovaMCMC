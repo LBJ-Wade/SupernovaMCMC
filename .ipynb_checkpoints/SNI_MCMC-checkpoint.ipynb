{
 "cells": [
  {
   "cell_type": "markdown",
   "metadata": {},
   "source": [
    "# Supernovae_MCMC\n",
    "\n",
    "Run Monte Carlo Markov Chains with Supernovae data to sample the cosmological parameter space.\n",
    "\n",
    "Project for the [*2018 Astronomical Data Analysis ADA IX School*](http://ada.cosmostat.org/), for the [bayesian statistics tutorial by Roberto Trotta](https://github.com/ADAIX/Bayesian-Tutorial).\n",
    "\n",
    "Author: Pablo Villanueva Domingo\n",
    "\n",
    "Date: May 2018"
   ]
  },
  {
   "cell_type": "code",
   "execution_count": null,
   "metadata": {},
   "outputs": [],
   "source": [
    "import matplotlib.pyplot as plt\n",
    "import numpy as np\n",
    "from scipy import integrate"
   ]
  },
  {
   "cell_type": "code",
   "execution_count": null,
   "metadata": {},
   "outputs": [],
   "source": [
    "# Some parameters\n",
    "\n",
    "Om_max = 1.\n",
    "Ol_max = 1.\n",
    "O_step = 0.05\n",
    "N_chains = 10\n",
    "N_steps = 300\n",
    "sigma = 0.4\n",
    "h = 0.72\n",
    "c = 3e5"
   ]
  },
  {
   "cell_type": "code",
   "execution_count": null,
   "metadata": {},
   "outputs": [],
   "source": [
    "# Functions\n",
    "\n",
    "# Luminosity distance\n",
    "def LumDist(z,Om,Ol):\n",
    "    Ok=1-Om-Ol\n",
    "    int = integrate.quad(lambda zz: (Om*(1+zz)**3 + Ol + Ok*(1+zz)**2)**(-1/2), 0, z )[0]\n",
    "    sqOk = np.sqrt(np.abs(Ok))\n",
    "    if Ok==0:\n",
    "        dl = int\n",
    "    elif Ok<0:\n",
    "        dl = np.sin(sqOk*int)/sqOk\n",
    "    else:\n",
    "        dl = np.sinh(sqOk*int)/sqOk\n",
    "    return (1+z)*dl\n",
    "\n",
    "# Modulus distance\n",
    "def DistMod(dl):\n",
    "    eta = 25-5*np.log10(100*h/c)\n",
    "    return eta + 5*np.log10(dl)\n",
    "\n",
    "# Gaussian distr\n",
    "def Gaussian(x,sigma):\n",
    "    chi = x/sigma\n",
    "    return np.exp(-chi**2/2)/np.sqrt(2*np.pi*sigma)"
   ]
  }
 ],
 "metadata": {
  "kernelspec": {
   "display_name": "Python 3 (ipykernel)",
   "language": "python",
   "name": "python3"
  },
  "language_info": {
   "codemirror_mode": {
    "name": "ipython",
    "version": 3
   },
   "file_extension": ".py",
   "mimetype": "text/x-python",
   "name": "python",
   "nbconvert_exporter": "python",
   "pygments_lexer": "ipython3",
   "version": "3.9.7"
  }
 },
 "nbformat": 4,
 "nbformat_minor": 4
}
